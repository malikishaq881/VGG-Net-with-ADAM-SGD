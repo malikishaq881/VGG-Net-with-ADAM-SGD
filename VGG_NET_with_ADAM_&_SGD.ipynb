{
  "cells": [
    {
      "cell_type": "markdown",
      "id": "376ca207",
      "metadata": {
        "id": "376ca207"
      },
      "source": [
        "# VGG NET"
      ]
    },
    {
      "cell_type": "code",
      "execution_count": null,
      "id": "ebb6b8fe",
      "metadata": {
        "id": "ebb6b8fe"
      },
      "outputs": [],
      "source": [
        "import tensorflow as tf\n",
        "from tensorflow.keras.models import Sequential\n",
        "from tensorflow.keras.preprocessing.image import ImageDataGenerator\n",
        "from tensorflow.keras.layers import Dropout, Flatten,Activation\n",
        "from tensorflow.keras import models, layers, optimizers, utils\n",
        "from tensorflow.keras.layers import Conv2D, MaxPooling2D, BatchNormalization, Dense\n",
        "\n",
        "\n",
        "import numpy as np\n",
        "import pandas as pd\n",
        "import matplotlib.pyplot as plt\n",
        "\n",
        "import cv2\n",
        "import os\n",
        "\n",
        "from tqdm import tqdm"
      ]
    },
    {
      "cell_type": "code",
      "source": [
        "from google.colab import drive\n",
        "drive.mount('/content/drive')"
      ],
      "metadata": {
        "colab": {
          "base_uri": "https://localhost:8080/"
        },
        "id": "aSBVSPbqF46l",
        "outputId": "5c9e45d8-553c-4280-bec0-12ce8533f1bd"
      },
      "id": "aSBVSPbqF46l",
      "execution_count": null,
      "outputs": [
        {
          "output_type": "stream",
          "name": "stdout",
          "text": [
            "Mounted at /content/drive\n"
          ]
        }
      ]
    },
    {
      "cell_type": "code",
      "source": [
        "DATADIR = \"/content/drive/MyDrive/flowers\"\n",
        "IMG_SIZE = 180\n",
        "CATEGORIES = ['daisy', 'dandelion', 'rose', 'sunflower', 'tulip']"
      ],
      "metadata": {
        "id": "DJJVtswBGDO-"
      },
      "id": "DJJVtswBGDO-",
      "execution_count": null,
      "outputs": []
    },
    {
      "cell_type": "code",
      "execution_count": null,
      "id": "7e641b26",
      "metadata": {
        "colab": {
          "base_uri": "https://localhost:8080/"
        },
        "id": "7e641b26",
        "outputId": "f7866c57-5058-4303-9c1f-3ab3b66f9d19"
      },
      "outputs": [
        {
          "output_type": "stream",
          "name": "stderr",
          "text": [
            "100%|██████████| 769/769 [00:13<00:00, 58.81it/s] \n",
            "100%|██████████| 1055/1055 [00:14<00:00, 72.19it/s] \n",
            "100%|██████████| 784/784 [00:11<00:00, 68.51it/s] \n",
            "100%|██████████| 734/734 [00:12<00:00, 60.37it/s] \n",
            "100%|██████████| 984/984 [00:13<00:00, 71.45it/s] "
          ]
        },
        {
          "output_type": "stream",
          "name": "stdout",
          "text": [
            "4323\n"
          ]
        },
        {
          "output_type": "stream",
          "name": "stderr",
          "text": [
            "\n"
          ]
        }
      ],
      "source": [
        "data = []\n",
        "\n",
        "def create_data():\n",
        "    for category in CATEGORIES:\n",
        "        path = os.path.join(DATADIR, category)\n",
        "        class_num = CATEGORIES.index(category)\n",
        "\n",
        "        for img in tqdm(os.listdir(path)):\n",
        "            try:\n",
        "                img_array = cv2.imread(os.path.join(path,img))\n",
        "                new_array = cv2.resize(img_array, (IMG_SIZE, IMG_SIZE))\n",
        "                data.append([new_array, class_num])\n",
        "            except Exception as e:  # in the interest in keeping the output clean...\n",
        "                pass\n",
        "\n",
        "create_data()\n",
        "\n",
        "print(len(data))"
      ]
    },
    {
      "cell_type": "code",
      "execution_count": null,
      "id": "54e46071",
      "metadata": {
        "colab": {
          "base_uri": "https://localhost:8080/"
        },
        "id": "54e46071",
        "outputId": "29706e56-ef27-4c8a-ece6-ff945a8bfc22"
      },
      "outputs": [
        {
          "output_type": "stream",
          "name": "stderr",
          "text": [
            "100%|██████████| 4323/4323 [00:00<00:00, 1596405.72it/s]\n"
          ]
        }
      ],
      "source": [
        "X = []\n",
        "y = []\n",
        "\n",
        "for features,label in tqdm(data):\n",
        "    X.append(features)\n",
        "    y.append(label)"
      ]
    },
    {
      "cell_type": "code",
      "execution_count": null,
      "id": "3c13db6b",
      "metadata": {
        "id": "3c13db6b"
      },
      "outputs": [],
      "source": [
        "X = np.array(X)\n",
        "X = X.  astype('float32') / 255\n",
        "y = np.array(y)"
      ]
    },
    {
      "cell_type": "code",
      "execution_count": null,
      "id": "4764e0ed",
      "metadata": {
        "id": "4764e0ed"
      },
      "outputs": [],
      "source": [
        "from sklearn.model_selection import train_test_split\n",
        "x_train, x_test, y_train, y_test = train_test_split(X, y, test_size=0.4, random_state = 49)"
      ]
    },
    {
      "cell_type": "code",
      "execution_count": null,
      "id": "7e57688b",
      "metadata": {
        "id": "7e57688b"
      },
      "outputs": [],
      "source": [
        "model = Sequential()\n",
        "model.add(Conv2D(filters = 64, kernel_size = (3,3),padding = 'Same',                          #Input\n",
        "                 activation ='relu', input_shape = (IMG_SIZE, IMG_SIZE, 3)))\n",
        "model.add(Conv2D(filters = 64, kernel_size = (3,3),padding = 'Same',\n",
        "                 activation ='relu', input_shape = (IMG_SIZE, IMG_SIZE, 3)))\n",
        "\n",
        "model.add(MaxPooling2D(pool_size=(2,2)))                                                      #Pool1\n",
        "model.add(Conv2D(filters = 128, kernel_size = (3,3), padding = 'Same',activation ='relu'))\n",
        "model.add(Conv2D(filters = 128, kernel_size = (3,3), padding = 'Same',activation ='relu'))\n",
        "\n",
        "\n",
        "model.add(MaxPooling2D(pool_size=(2,2), strides=(2,2)))                                        #Pool2\n",
        "model.add(Conv2D(filters =256, kernel_size = (3,3), padding = 'Same',activation ='relu'))\n",
        "model.add(Conv2D(filters =256, kernel_size = (3,3), padding = 'Same',activation ='relu'))\n",
        "model.add(Conv2D(filters =256, kernel_size = (3,3), padding = 'Same',activation ='relu'))\n",
        "\n",
        "model.add(MaxPooling2D(pool_size=(2,2), strides=(2,2)))                                        #Pool3\n",
        "model.add(Conv2D(filters = 512, kernel_size = (3,3), padding = 'Same',activation ='relu'))\n",
        "model.add(Conv2D(filters = 512, kernel_size = (3,3), padding = 'Same',activation ='relu'))\n",
        "model.add(Conv2D(filters = 512, kernel_size = (3,3), padding = 'Same',activation ='relu'))\n",
        "\n",
        "model.add(MaxPooling2D(pool_size=(2,2), strides=(2,2)))                                         #Pool4\n",
        "model.add(Conv2D(filters = 512, kernel_size = (3,3), padding = 'Same',activation ='relu'))\n",
        "model.add(Conv2D(filters = 512, kernel_size = (3,3), padding = 'Same',activation ='relu'))\n",
        "model.add(Conv2D(filters = 512, kernel_size = (3,3), padding = 'Same',activation ='relu'))\n",
        "\n",
        "model.add(Flatten())                    #Flat Data\n",
        "model.add(Dense(4096))\n",
        "model.add(Dense(4096))\n",
        "model.add(Activation('relu'))\n",
        "model.add(Dense(5, activation = \"softmax\"))\n",
        "model.compile(optimizer=tf.keras.optimizers.Adam(learning_rate=0.001),\n",
        "              loss='sparse_categorical_crossentropy',metrics=['accuracy'])"
      ]
    },
    {
      "cell_type": "code",
      "execution_count": null,
      "id": "14044103",
      "metadata": {
        "colab": {
          "base_uri": "https://localhost:8080/"
        },
        "id": "14044103",
        "outputId": "84325779-72a1-4c14-ca18-46ce73f9e9ca"
      },
      "outputs": [
        {
          "output_type": "stream",
          "name": "stdout",
          "text": [
            "Model: \"sequential\"\n",
            "_________________________________________________________________\n",
            " Layer (type)                Output Shape              Param #   \n",
            "=================================================================\n",
            " conv2d (Conv2D)             (None, 180, 180, 64)      1792      \n",
            "                                                                 \n",
            " conv2d_1 (Conv2D)           (None, 180, 180, 64)      36928     \n",
            "                                                                 \n",
            " max_pooling2d (MaxPooling2D  (None, 90, 90, 64)       0         \n",
            " )                                                               \n",
            "                                                                 \n",
            " conv2d_2 (Conv2D)           (None, 90, 90, 128)       73856     \n",
            "                                                                 \n",
            " conv2d_3 (Conv2D)           (None, 90, 90, 128)       147584    \n",
            "                                                                 \n",
            " max_pooling2d_1 (MaxPooling  (None, 45, 45, 128)      0         \n",
            " 2D)                                                             \n",
            "                                                                 \n",
            " conv2d_4 (Conv2D)           (None, 45, 45, 256)       295168    \n",
            "                                                                 \n",
            " conv2d_5 (Conv2D)           (None, 45, 45, 256)       590080    \n",
            "                                                                 \n",
            " conv2d_6 (Conv2D)           (None, 45, 45, 256)       590080    \n",
            "                                                                 \n",
            " max_pooling2d_2 (MaxPooling  (None, 22, 22, 256)      0         \n",
            " 2D)                                                             \n",
            "                                                                 \n",
            " conv2d_7 (Conv2D)           (None, 22, 22, 512)       1180160   \n",
            "                                                                 \n",
            " conv2d_8 (Conv2D)           (None, 22, 22, 512)       2359808   \n",
            "                                                                 \n",
            " conv2d_9 (Conv2D)           (None, 22, 22, 512)       2359808   \n",
            "                                                                 \n",
            " max_pooling2d_3 (MaxPooling  (None, 11, 11, 512)      0         \n",
            " 2D)                                                             \n",
            "                                                                 \n",
            " conv2d_10 (Conv2D)          (None, 11, 11, 512)       2359808   \n",
            "                                                                 \n",
            " conv2d_11 (Conv2D)          (None, 11, 11, 512)       2359808   \n",
            "                                                                 \n",
            " conv2d_12 (Conv2D)          (None, 11, 11, 512)       2359808   \n",
            "                                                                 \n",
            " flatten (Flatten)           (None, 61952)             0         \n",
            "                                                                 \n",
            " dense (Dense)               (None, 4096)              253759488 \n",
            "                                                                 \n",
            " dense_1 (Dense)             (None, 4096)              16781312  \n",
            "                                                                 \n",
            " activation (Activation)     (None, 4096)              0         \n",
            "                                                                 \n",
            " dense_2 (Dense)             (None, 5)                 20485     \n",
            "                                                                 \n",
            "=================================================================\n",
            "Total params: 285,275,973\n",
            "Trainable params: 285,275,973\n",
            "Non-trainable params: 0\n",
            "_________________________________________________________________\n"
          ]
        }
      ],
      "source": [
        "model.summary()"
      ]
    },
    {
      "cell_type": "code",
      "execution_count": null,
      "id": "3b08ea73",
      "metadata": {
        "id": "3b08ea73"
      },
      "outputs": [],
      "source": [
        "datagen = ImageDataGenerator(\n",
        "        featurewise_center=False,                                  # set input mean to 0 over the dataset\n",
        "        samplewise_center=False,                                   # set each sample mean to 0\n",
        "        featurewise_std_normalization=False,                       # divide inputs by std of the dataset\n",
        "        samplewise_std_normalization=False,                        # divide each input by its std\n",
        "        zca_whitening=False,               # apply ZCA whitening\n",
        "        rotation_range=10,                 # randomly rotate images in the range (degrees, 0 to 180)\n",
        "        zoom_range = 0.1,                  # Randomly zoom image\n",
        "        width_shift_range=0.2,             # randomly shift images horizontally (fraction of total width)\n",
        "        height_shift_range=0.2,            # randomly shift images vertically (fraction of total height)\n",
        "        horizontal_flip=True,              # randomly flip images\n",
        "        vertical_flip=False)               # randomly flip images\n",
        "datagen.fit(x_train)"
      ]
    },
    {
      "cell_type": "code",
      "execution_count": null,
      "id": "f9850f11",
      "metadata": {
        "colab": {
          "base_uri": "https://localhost:8080/"
        },
        "id": "f9850f11",
        "outputId": "3530f041-c265-43d5-f88d-ed9704f1b66f"
      },
      "outputs": [
        {
          "output_type": "stream",
          "name": "stdout",
          "text": [
            "Epoch 1/10\n",
            "21/21 [==============================] - 88s 3s/step - loss: 1.7262 - accuracy: 0.2422 - val_loss: 1.5994 - val_accuracy: 0.2387\n",
            "Epoch 2/10\n",
            "21/21 [==============================] - 34s 2s/step - loss: 1.6024 - accuracy: 0.2391 - val_loss: 1.6034 - val_accuracy: 0.2318\n",
            "Epoch 3/10\n",
            "21/21 [==============================] - 35s 2s/step - loss: 1.6050 - accuracy: 0.2360 - val_loss: 1.6008 - val_accuracy: 0.2387\n",
            "Epoch 4/10\n",
            "21/21 [==============================] - 34s 2s/step - loss: 1.6000 - accuracy: 0.2464 - val_loss: 1.6007 - val_accuracy: 0.2387\n",
            "Epoch 5/10\n",
            "21/21 [==============================] - 34s 2s/step - loss: 1.6019 - accuracy: 0.2352 - val_loss: 1.6005 - val_accuracy: 0.2387\n",
            "Epoch 6/10\n",
            "21/21 [==============================] - 34s 2s/step - loss: 1.6007 - accuracy: 0.2464 - val_loss: 1.6042 - val_accuracy: 0.2387\n",
            "Epoch 7/10\n",
            "21/21 [==============================] - 35s 2s/step - loss: 1.6024 - accuracy: 0.2464 - val_loss: 1.6029 - val_accuracy: 0.2387\n",
            "Epoch 8/10\n",
            "21/21 [==============================] - 34s 2s/step - loss: 1.6005 - accuracy: 0.2449 - val_loss: 1.5989 - val_accuracy: 0.2318\n",
            "Epoch 9/10\n",
            "21/21 [==============================] - 34s 2s/step - loss: 1.6003 - accuracy: 0.2410 - val_loss: 1.5993 - val_accuracy: 0.2387\n",
            "Epoch 10/10\n",
            "21/21 [==============================] - 34s 2s/step - loss: 1.6011 - accuracy: 0.2341 - val_loss: 1.5992 - val_accuracy: 0.2387\n"
          ]
        }
      ],
      "source": [
        "history = model.fit(\n",
        "    datagen.flow(x_train,y_train, batch_size=128),\n",
        "    epochs = 10, validation_data = (x_test,y_test))"
      ]
    },
    {
      "cell_type": "code",
      "execution_count": null,
      "id": "e0f149f5",
      "metadata": {
        "colab": {
          "base_uri": "https://localhost:8080/",
          "height": 465
        },
        "id": "e0f149f5",
        "outputId": "6c122cd8-4567-477f-e09a-cd8e0d2a1f8b"
      },
      "outputs": [
        {
          "output_type": "display_data",
          "data": {
            "text/plain": [
              "<Figure size 1000x500 with 1 Axes>"
            ],
            "image/png": "[encoded data removed]"
          },
          "metadata": {}
        }
      ],
      "source": [
        "plt.figure(figsize=(10,5))\n",
        "plt.plot(history.history[\"accuracy\"], label=\"Accuracy\", color = \"r\")\n",
        "plt.plot(history.history[\"val_accuracy\"], label=\"Val Accuracy\", color = \"b\")\n",
        "plt.xlabel(\"Epochs\")\n",
        "plt.legend()\n",
        "plt.show()"
      ]
    },
    {
      "cell_type": "code",
      "execution_count": null,
      "id": "7154bdc5",
      "metadata": {
        "colab": {
          "base_uri": "https://localhost:8080/"
        },
        "id": "7154bdc5",
        "outputId": "81692e18-e839-48a3-d13d-ea1821249803"
      },
      "outputs": [
        {
          "output_type": "stream",
          "name": "stdout",
          "text": [
            "55/55 [==============================] - 5s 87ms/step - loss: 1.5992 - accuracy: 0.2387\n",
            "1.5991665124893188 0.238728329539299\n"
          ]
        }
      ],
      "source": [
        "test_loss, test_acc = model.evaluate(x_test, y_test)\n",
        "print(test_loss,test_acc)"
      ]
    },
    {
      "cell_type": "markdown",
      "source": [
        "#**WITH SGD**"
      ],
      "metadata": {
        "id": "1UJaNQutPtdW"
      },
      "id": "1UJaNQutPtdW"
    },
    {
      "cell_type": "code",
      "source": [
        "model = Sequential()\n",
        "model.add(Conv2D(filters = 64, kernel_size = (3,3),padding = 'Same',                          #Input\n",
        "                 activation ='relu', input_shape = (IMG_SIZE, IMG_SIZE, 3)))\n",
        "model.add(Conv2D(filters = 64, kernel_size = (3,3),padding = 'Same',\n",
        "                 activation ='relu', input_shape = (IMG_SIZE, IMG_SIZE, 3)))\n",
        "\n",
        "model.add(MaxPooling2D(pool_size=(2,2)))                                                      #Pool1\n",
        "model.add(Conv2D(filters = 128, kernel_size = (3,3), padding = 'Same',activation ='relu'))\n",
        "model.add(Conv2D(filters = 128, kernel_size = (3,3), padding = 'Same',activation ='relu'))\n",
        "\n",
        "\n",
        "model.add(MaxPooling2D(pool_size=(2,2), strides=(2,2)))                                        #Pool2\n",
        "model.add(Conv2D(filters =256, kernel_size = (3,3), padding = 'Same',activation ='relu'))\n",
        "model.add(Conv2D(filters =256, kernel_size = (3,3), padding = 'Same',activation ='relu'))\n",
        "model.add(Conv2D(filters =256, kernel_size = (3,3), padding = 'Same',activation ='relu'))\n",
        "\n",
        "model.add(MaxPooling2D(pool_size=(2,2), strides=(2,2)))                                        #Pool3\n",
        "model.add(Conv2D(filters = 512, kernel_size = (3,3), padding = 'Same',activation ='relu'))\n",
        "model.add(Conv2D(filters = 512, kernel_size = (3,3), padding = 'Same',activation ='relu'))\n",
        "model.add(Conv2D(filters = 512, kernel_size = (3,3), padding = 'Same',activation ='relu'))\n",
        "\n",
        "model.add(MaxPooling2D(pool_size=(2,2), strides=(2,2)))                                         #Pool4\n",
        "model.add(Conv2D(filters = 512, kernel_size = (3,3), padding = 'Same',activation ='relu'))\n",
        "model.add(Conv2D(filters = 512, kernel_size = (3,3), padding = 'Same',activation ='relu'))\n",
        "model.add(Conv2D(filters = 512, kernel_size = (3,3), padding = 'Same',activation ='relu'))\n",
        "\n",
        "model.add(Flatten())                    #Flat Data\n",
        "model.add(Dense(4096))\n",
        "model.add(Dense(4096))\n",
        "model.add(Activation('relu'))\n",
        "model.add(Dense(5, activation = \"softmax\"))\n",
        "model.compile(optimizer=tf.keras.optimizers.SGD(learning_rate=0.001),\n",
        "              loss='sparse_categorical_crossentropy',metrics=['accuracy'])"
      ],
      "metadata": {
        "id": "54FOqmPNP2EQ"
      },
      "id": "54FOqmPNP2EQ",
      "execution_count": null,
      "outputs": []
    },
    {
      "cell_type": "code",
      "source": [
        "model.summary()"
      ],
      "metadata": {
        "colab": {
          "base_uri": "https://localhost:8080/"
        },
        "id": "rBZg_0HUP-Gj",
        "outputId": "db5da10d-2c7c-401c-ea7c-5d2559932128"
      },
      "id": "rBZg_0HUP-Gj",
      "execution_count": null,
      "outputs": [
        {
          "output_type": "stream",
          "name": "stdout",
          "text": [
            "Model: \"sequential_1\"\n",
            "_________________________________________________________________\n",
            " Layer (type)                Output Shape              Param #   \n",
            "=================================================================\n",
            " conv2d_13 (Conv2D)          (None, 180, 180, 64)      1792      \n",
            "                                                                 \n",
            " conv2d_14 (Conv2D)          (None, 180, 180, 64)      36928     \n",
            "                                                                 \n",
            " max_pooling2d_4 (MaxPooling  (None, 90, 90, 64)       0         \n",
            " 2D)                                                             \n",
            "                                                                 \n",
            " conv2d_15 (Conv2D)          (None, 90, 90, 128)       73856     \n",
            "                                                                 \n",
            " conv2d_16 (Conv2D)          (None, 90, 90, 128)       147584    \n",
            "                                                                 \n",
            " max_pooling2d_5 (MaxPooling  (None, 45, 45, 128)      0         \n",
            " 2D)                                                             \n",
            "                                                                 \n",
            " conv2d_17 (Conv2D)          (None, 45, 45, 256)       295168    \n",
            "                                                                 \n",
            " conv2d_18 (Conv2D)          (None, 45, 45, 256)       590080    \n",
            "                                                                 \n",
            " conv2d_19 (Conv2D)          (None, 45, 45, 256)       590080    \n",
            "                                                                 \n",
            " max_pooling2d_6 (MaxPooling  (None, 22, 22, 256)      0         \n",
            " 2D)                                                             \n",
            "                                                                 \n",
            " conv2d_20 (Conv2D)          (None, 22, 22, 512)       1180160   \n",
            "                                                                 \n",
            " conv2d_21 (Conv2D)          (None, 22, 22, 512)       2359808   \n",
            "                                                                 \n",
            " conv2d_22 (Conv2D)          (None, 22, 22, 512)       2359808   \n",
            "                                                                 \n",
            " max_pooling2d_7 (MaxPooling  (None, 11, 11, 512)      0         \n",
            " 2D)                                                             \n",
            "                                                                 \n",
            " conv2d_23 (Conv2D)          (None, 11, 11, 512)       2359808   \n",
            "                                                                 \n",
            " conv2d_24 (Conv2D)          (None, 11, 11, 512)       2359808   \n",
            "                                                                 \n",
            " conv2d_25 (Conv2D)          (None, 11, 11, 512)       2359808   \n",
            "                                                                 \n",
            " flatten_1 (Flatten)         (None, 61952)             0         \n",
            "                                                                 \n",
            " dense_3 (Dense)             (None, 4096)              253759488 \n",
            "                                                                 \n",
            " dense_4 (Dense)             (None, 4096)              16781312  \n",
            "                                                                 \n",
            " activation_1 (Activation)   (None, 4096)              0         \n",
            "                                                                 \n",
            " dense_5 (Dense)             (None, 5)                 20485     \n",
            "                                                                 \n",
            "=================================================================\n",
            "Total params: 285,275,973\n",
            "Trainable params: 285,275,973\n",
            "Non-trainable params: 0\n",
            "_________________________________________________________________\n"
          ]
        }
      ]
    },
    {
      "cell_type": "code",
      "source": [
        "datagen = ImageDataGenerator(\n",
        "        featurewise_center=False,                                  # set input mean to 0 over the dataset\n",
        "        samplewise_center=False,                                   # set each sample mean to 0\n",
        "        featurewise_std_normalization=False,                       # divide inputs by std of the dataset\n",
        "        samplewise_std_normalization=False,                        # divide each input by its std\n",
        "        zca_whitening=False,               # apply ZCA whitening\n",
        "        rotation_range=10,                 # randomly rotate images in the range (degrees, 0 to 180)\n",
        "        zoom_range = 0.1,                  # Randomly zoom image\n",
        "        width_shift_range=0.2,             # randomly shift images horizontally (fraction of total width)\n",
        "        height_shift_range=0.2,            # randomly shift images vertically (fraction of total height)\n",
        "        horizontal_flip=True,              # randomly flip images\n",
        "        vertical_flip=False)               # randomly flip images\n",
        "datagen.fit(x_train)"
      ],
      "metadata": {
        "id": "YoNwZ2cyQB8D"
      },
      "id": "YoNwZ2cyQB8D",
      "execution_count": null,
      "outputs": []
    },
    {
      "cell_type": "code",
      "source": [
        "history = model.fit(\n",
        "    datagen.flow(x_train,y_train, batch_size=128),\n",
        "    epochs = 10, validation_data = (x_test,y_test))"
      ],
      "metadata": {
        "colab": {
          "base_uri": "https://localhost:8080/"
        },
        "id": "oTfmNO22QINh",
        "outputId": "9689b9a6-8f88-4d0d-f66b-ed471651346e"
      },
      "id": "oTfmNO22QINh",
      "execution_count": null,
      "outputs": [
        {
          "output_type": "stream",
          "name": "stdout",
          "text": [
            "Epoch 1/10\n",
            "21/21 [==============================] - 40s 2s/step - loss: 1.6093 - accuracy: 0.2352 - val_loss: 1.6091 - val_accuracy: 0.2387\n",
            "Epoch 2/10\n",
            "21/21 [==============================] - 42s 2s/step - loss: 1.6089 - accuracy: 0.2464 - val_loss: 1.6088 - val_accuracy: 0.2387\n",
            "Epoch 3/10\n",
            "21/21 [==============================] - 43s 2s/step - loss: 1.6086 - accuracy: 0.2464 - val_loss: 1.6085 - val_accuracy: 0.2387\n",
            "Epoch 4/10\n",
            "21/21 [==============================] - 37s 2s/step - loss: 1.6083 - accuracy: 0.2464 - val_loss: 1.6082 - val_accuracy: 0.2387\n",
            "Epoch 5/10\n",
            "21/21 [==============================] - 42s 2s/step - loss: 1.6080 - accuracy: 0.2464 - val_loss: 1.6079 - val_accuracy: 0.2387\n",
            "Epoch 6/10\n",
            "21/21 [==============================] - 42s 2s/step - loss: 1.6077 - accuracy: 0.2464 - val_loss: 1.6076 - val_accuracy: 0.2387\n",
            "Epoch 7/10\n",
            "21/21 [==============================] - 42s 2s/step - loss: 1.6074 - accuracy: 0.2464 - val_loss: 1.6074 - val_accuracy: 0.2387\n",
            "Epoch 8/10\n",
            "21/21 [==============================] - 37s 2s/step - loss: 1.6072 - accuracy: 0.2464 - val_loss: 1.6071 - val_accuracy: 0.2387\n",
            "Epoch 9/10\n",
            "21/21 [==============================] - 36s 2s/step - loss: 1.6069 - accuracy: 0.2464 - val_loss: 1.6068 - val_accuracy: 0.2387\n",
            "Epoch 10/10\n",
            "21/21 [==============================] - 38s 2s/step - loss: 1.6067 - accuracy: 0.2464 - val_loss: 1.6066 - val_accuracy: 0.2387\n"
          ]
        }
      ]
    },
    {
      "cell_type": "code",
      "source": [
        "plt.figure(figsize=(10,5))\n",
        "plt.plot(history.history[\"accuracy\"], label=\"Accuracy\", color = \"r\")\n",
        "plt.plot(history.history[\"val_accuracy\"], label=\"Val Accuracy\", color = \"b\")\n",
        "plt.xlabel(\"Epochs\")\n",
        "plt.legend()\n",
        "plt.show()"
      ],
      "metadata": {
        "colab": {
          "base_uri": "https://localhost:8080/",
          "height": 465
        },
        "id": "MRLfblsqQL2V",
        "outputId": "9a417b77-42ca-4946-bfb2-5d938f9f7802"
      },
      "id": "MRLfblsqQL2V",
      "execution_count": null,
      "outputs": [
        {
          "output_type": "display_data",
          "data": {
            "text/plain": [
              "<Figure size 1000x500 with 1 Axes>"
            ],
            "image/png": "[encoded data removed]"
          },
          "metadata": {}
        }
      ]
    },
    {
      "cell_type": "code",
      "source": [],
      "metadata": {
        "id": "kFJ4Zo-dSEmq"
      },
      "id": "kFJ4Zo-dSEmq",
      "execution_count": null,
      "outputs": []
    }
  ],
  "metadata": {
    "kernelspec": {
      "display_name": "Python 3",
      "name": "python3"
    },
    "language_info": {
      "codemirror_mode": {
        "name": "ipython",
        "version": 3
      },
      "file_extension": ".py",
      "mimetype": "text/x-python",
      "name": "python",
      "nbconvert_exporter": "python",
      "pygments_lexer": "ipython3",
      "version": "3.11.3"
    },
    "colab": {
      "provenance": [],
      "gpuType": "T4"
    },
    "accelerator": "GPU"
  },
  "nbformat": 4,
  "nbformat_minor": 5
}